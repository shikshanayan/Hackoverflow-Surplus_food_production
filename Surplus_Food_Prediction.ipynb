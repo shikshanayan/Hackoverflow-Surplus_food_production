{
  "nbformat": 4,
  "nbformat_minor": 0,
  "metadata": {
    "colab": {
      "provenance": [],
      "toc_visible": true
    },
    "kernelspec": {
      "name": "python3",
      "display_name": "Python 3"
    },
    "language_info": {
      "name": "python"
    }
  },
  "cells": [
    {
      "cell_type": "markdown",
      "source": [
        "Prediction of Surplus Food Production"
      ],
      "metadata": {
        "id": "P2DzBcV2Q-cm"
      }
    },
    {
      "cell_type": "code",
      "execution_count": null,
      "metadata": {
        "id": "7mfuk0on0IPO"
      },
      "outputs": [],
      "source": [
        "import pandas as pd\n",
        "import matplotlib.pyplot as plt\n",
        "import seaborn as sns\n",
        "from sklearn.model_selection import train_test_split\n",
        "from sklearn.linear_model import LinearRegression\n",
        "from sklearn.linear_model import Lasso\n",
        "from sklearn import metrics"
      ]
    },
    {
      "cell_type": "markdown",
      "source": [
        "Data collection and processing"
      ],
      "metadata": {
        "id": "SWIMIuqf-4bF"
      }
    },
    {
      "cell_type": "code",
      "source": [
        "# loading the data from csv file to pandas dataframe\n",
        "food_dataset = pd.read_csv('/content/databse ml.csv')"
      ],
      "metadata": {
        "id": "4kPMK9J1_ZxI"
      },
      "execution_count": null,
      "outputs": []
    },
    {
      "cell_type": "code",
      "source": [
        "food_dataset.head()"
      ],
      "metadata": {
        "colab": {
          "base_uri": "https://localhost:8080/",
          "height": 305
        },
        "id": "p3PeoruKCH8o",
        "outputId": "2ef0bc74-4098-42ca-cb73-03c66d1e9aad"
      },
      "execution_count": null,
      "outputs": [
        {
          "output_type": "execute_result",
          "data": {
            "text/plain": [
              "   year       sector        food_type   tons_supply  tons_surplus  \\\n",
              "0  2019         Farm        Dry Goods  6.428605e+06  1.230837e+06   \n",
              "1  2019         Farm          Produce  9.544273e+07  1.551747e+07   \n",
              "2  2019  Foodservice  Breads & Bakery  3.110773e+04  5.708086e+02   \n",
              "3  2019  Foodservice     Dairy & Eggs  1.479832e+04  2.715404e+02   \n",
              "4  2019  Foodservice        Dry Goods  2.645191e+04  4.853770e+02   \n",
              "\n",
              "     tons_waste  tons_uneaten  tons_anaerobically_digested  tons_composted  \\\n",
              "0  1.081247e+06  1.201759e+06                     0.000000        0.000000   \n",
              "1  1.362843e+07  1.526485e+07                     0.000000        0.000000   \n",
              "2  4.821472e+02  5.564499e+02                     0.144755       72.229657   \n",
              "3  2.293631e+02  2.647098e+02                     0.068862       34.360502   \n",
              "4  4.099854e+02  4.731673e+02                     0.123090       61.419216   \n",
              "\n",
              "   tons_landfilled  meals_wasted  \n",
              "0     24666.802930  2.002932e+09  \n",
              "1    185655.329100  2.544142e+10  \n",
              "2       432.694805  9.274164e+05  \n",
              "3       205.838034  4.411830e+05  \n",
              "4       367.934404  7.886122e+05  "
            ],
            "text/html": [
              "\n",
              "  <div id=\"df-1d75121d-18b3-4da8-8141-7e59ad8105a8\">\n",
              "    <div class=\"colab-df-container\">\n",
              "      <div>\n",
              "<style scoped>\n",
              "    .dataframe tbody tr th:only-of-type {\n",
              "        vertical-align: middle;\n",
              "    }\n",
              "\n",
              "    .dataframe tbody tr th {\n",
              "        vertical-align: top;\n",
              "    }\n",
              "\n",
              "    .dataframe thead th {\n",
              "        text-align: right;\n",
              "    }\n",
              "</style>\n",
              "<table border=\"1\" class=\"dataframe\">\n",
              "  <thead>\n",
              "    <tr style=\"text-align: right;\">\n",
              "      <th></th>\n",
              "      <th>year</th>\n",
              "      <th>sector</th>\n",
              "      <th>food_type</th>\n",
              "      <th>tons_supply</th>\n",
              "      <th>tons_surplus</th>\n",
              "      <th>tons_waste</th>\n",
              "      <th>tons_uneaten</th>\n",
              "      <th>tons_anaerobically_digested</th>\n",
              "      <th>tons_composted</th>\n",
              "      <th>tons_landfilled</th>\n",
              "      <th>meals_wasted</th>\n",
              "    </tr>\n",
              "  </thead>\n",
              "  <tbody>\n",
              "    <tr>\n",
              "      <th>0</th>\n",
              "      <td>2019</td>\n",
              "      <td>Farm</td>\n",
              "      <td>Dry Goods</td>\n",
              "      <td>6.428605e+06</td>\n",
              "      <td>1.230837e+06</td>\n",
              "      <td>1.081247e+06</td>\n",
              "      <td>1.201759e+06</td>\n",
              "      <td>0.000000</td>\n",
              "      <td>0.000000</td>\n",
              "      <td>24666.802930</td>\n",
              "      <td>2.002932e+09</td>\n",
              "    </tr>\n",
              "    <tr>\n",
              "      <th>1</th>\n",
              "      <td>2019</td>\n",
              "      <td>Farm</td>\n",
              "      <td>Produce</td>\n",
              "      <td>9.544273e+07</td>\n",
              "      <td>1.551747e+07</td>\n",
              "      <td>1.362843e+07</td>\n",
              "      <td>1.526485e+07</td>\n",
              "      <td>0.000000</td>\n",
              "      <td>0.000000</td>\n",
              "      <td>185655.329100</td>\n",
              "      <td>2.544142e+10</td>\n",
              "    </tr>\n",
              "    <tr>\n",
              "      <th>2</th>\n",
              "      <td>2019</td>\n",
              "      <td>Foodservice</td>\n",
              "      <td>Breads &amp; Bakery</td>\n",
              "      <td>3.110773e+04</td>\n",
              "      <td>5.708086e+02</td>\n",
              "      <td>4.821472e+02</td>\n",
              "      <td>5.564499e+02</td>\n",
              "      <td>0.144755</td>\n",
              "      <td>72.229657</td>\n",
              "      <td>432.694805</td>\n",
              "      <td>9.274164e+05</td>\n",
              "    </tr>\n",
              "    <tr>\n",
              "      <th>3</th>\n",
              "      <td>2019</td>\n",
              "      <td>Foodservice</td>\n",
              "      <td>Dairy &amp; Eggs</td>\n",
              "      <td>1.479832e+04</td>\n",
              "      <td>2.715404e+02</td>\n",
              "      <td>2.293631e+02</td>\n",
              "      <td>2.647098e+02</td>\n",
              "      <td>0.068862</td>\n",
              "      <td>34.360502</td>\n",
              "      <td>205.838034</td>\n",
              "      <td>4.411830e+05</td>\n",
              "    </tr>\n",
              "    <tr>\n",
              "      <th>4</th>\n",
              "      <td>2019</td>\n",
              "      <td>Foodservice</td>\n",
              "      <td>Dry Goods</td>\n",
              "      <td>2.645191e+04</td>\n",
              "      <td>4.853770e+02</td>\n",
              "      <td>4.099854e+02</td>\n",
              "      <td>4.731673e+02</td>\n",
              "      <td>0.123090</td>\n",
              "      <td>61.419216</td>\n",
              "      <td>367.934404</td>\n",
              "      <td>7.886122e+05</td>\n",
              "    </tr>\n",
              "  </tbody>\n",
              "</table>\n",
              "</div>\n",
              "      <button class=\"colab-df-convert\" onclick=\"convertToInteractive('df-1d75121d-18b3-4da8-8141-7e59ad8105a8')\"\n",
              "              title=\"Convert this dataframe to an interactive table.\"\n",
              "              style=\"display:none;\">\n",
              "        \n",
              "  <svg xmlns=\"http://www.w3.org/2000/svg\" height=\"24px\"viewBox=\"0 0 24 24\"\n",
              "       width=\"24px\">\n",
              "    <path d=\"M0 0h24v24H0V0z\" fill=\"none\"/>\n",
              "    <path d=\"M18.56 5.44l.94 2.06.94-2.06 2.06-.94-2.06-.94-.94-2.06-.94 2.06-2.06.94zm-11 1L8.5 8.5l.94-2.06 2.06-.94-2.06-.94L8.5 2.5l-.94 2.06-2.06.94zm10 10l.94 2.06.94-2.06 2.06-.94-2.06-.94-.94-2.06-.94 2.06-2.06.94z\"/><path d=\"M17.41 7.96l-1.37-1.37c-.4-.4-.92-.59-1.43-.59-.52 0-1.04.2-1.43.59L10.3 9.45l-7.72 7.72c-.78.78-.78 2.05 0 2.83L4 21.41c.39.39.9.59 1.41.59.51 0 1.02-.2 1.41-.59l7.78-7.78 2.81-2.81c.8-.78.8-2.07 0-2.86zM5.41 20L4 18.59l7.72-7.72 1.47 1.35L5.41 20z\"/>\n",
              "  </svg>\n",
              "      </button>\n",
              "      \n",
              "  <style>\n",
              "    .colab-df-container {\n",
              "      display:flex;\n",
              "      flex-wrap:wrap;\n",
              "      gap: 12px;\n",
              "    }\n",
              "\n",
              "    .colab-df-convert {\n",
              "      background-color: #E8F0FE;\n",
              "      border: none;\n",
              "      border-radius: 50%;\n",
              "      cursor: pointer;\n",
              "      display: none;\n",
              "      fill: #1967D2;\n",
              "      height: 32px;\n",
              "      padding: 0 0 0 0;\n",
              "      width: 32px;\n",
              "    }\n",
              "\n",
              "    .colab-df-convert:hover {\n",
              "      background-color: #E2EBFA;\n",
              "      box-shadow: 0px 1px 2px rgba(60, 64, 67, 0.3), 0px 1px 3px 1px rgba(60, 64, 67, 0.15);\n",
              "      fill: #174EA6;\n",
              "    }\n",
              "\n",
              "    [theme=dark] .colab-df-convert {\n",
              "      background-color: #3B4455;\n",
              "      fill: #D2E3FC;\n",
              "    }\n",
              "\n",
              "    [theme=dark] .colab-df-convert:hover {\n",
              "      background-color: #434B5C;\n",
              "      box-shadow: 0px 1px 3px 1px rgba(0, 0, 0, 0.15);\n",
              "      filter: drop-shadow(0px 1px 2px rgba(0, 0, 0, 0.3));\n",
              "      fill: #FFFFFF;\n",
              "    }\n",
              "  </style>\n",
              "\n",
              "      <script>\n",
              "        const buttonEl =\n",
              "          document.querySelector('#df-1d75121d-18b3-4da8-8141-7e59ad8105a8 button.colab-df-convert');\n",
              "        buttonEl.style.display =\n",
              "          google.colab.kernel.accessAllowed ? 'block' : 'none';\n",
              "\n",
              "        async function convertToInteractive(key) {\n",
              "          const element = document.querySelector('#df-1d75121d-18b3-4da8-8141-7e59ad8105a8');\n",
              "          const dataTable =\n",
              "            await google.colab.kernel.invokeFunction('convertToInteractive',\n",
              "                                                     [key], {});\n",
              "          if (!dataTable) return;\n",
              "\n",
              "          const docLinkHtml = 'Like what you see? Visit the ' +\n",
              "            '<a target=\"_blank\" href=https://colab.research.google.com/notebooks/data_table.ipynb>data table notebook</a>'\n",
              "            + ' to learn more about interactive tables.';\n",
              "          element.innerHTML = '';\n",
              "          dataTable['output_type'] = 'display_data';\n",
              "          await google.colab.output.renderOutput(dataTable, element);\n",
              "          const docLink = document.createElement('div');\n",
              "          docLink.innerHTML = docLinkHtml;\n",
              "          element.appendChild(docLink);\n",
              "        }\n",
              "      </script>\n",
              "    </div>\n",
              "  </div>\n",
              "  "
            ]
          },
          "metadata": {},
          "execution_count": 17
        }
      ]
    },
    {
      "cell_type": "code",
      "source": [
        "# checking the number of rows and columns\n",
        "food_dataset.shape"
      ],
      "metadata": {
        "colab": {
          "base_uri": "https://localhost:8080/"
        },
        "id": "sKw62vVlCR28",
        "outputId": "f3b381a2-e21a-4cf0-a218-84326bcb313e"
      },
      "execution_count": null,
      "outputs": [
        {
          "output_type": "execute_result",
          "data": {
            "text/plain": [
              "(2900, 11)"
            ]
          },
          "metadata": {},
          "execution_count": 19
        }
      ]
    },
    {
      "cell_type": "code",
      "source": [
        "# getting some information about the dataset\n",
        "food_dataset.info()"
      ],
      "metadata": {
        "colab": {
          "base_uri": "https://localhost:8080/"
        },
        "id": "46Q1XoemCY44",
        "outputId": "647bccbf-3e87-435c-92ac-801c312b9d3a"
      },
      "execution_count": null,
      "outputs": [
        {
          "output_type": "stream",
          "name": "stdout",
          "text": [
            "<class 'pandas.core.frame.DataFrame'>\n",
            "RangeIndex: 2900 entries, 0 to 2899\n",
            "Data columns (total 11 columns):\n",
            " #   Column                       Non-Null Count  Dtype  \n",
            "---  ------                       --------------  -----  \n",
            " 0   year                         2900 non-null   int64  \n",
            " 1   sector                       2900 non-null   object \n",
            " 2   food_type                    2900 non-null   object \n",
            " 3   tons_supply                  2900 non-null   float64\n",
            " 4   tons_surplus                 2900 non-null   float64\n",
            " 5   tons_waste                   2900 non-null   float64\n",
            " 6   tons_uneaten                 2900 non-null   float64\n",
            " 7   tons_anaerobically_digested  2900 non-null   float64\n",
            " 8   tons_composted               2900 non-null   float64\n",
            " 9   tons_landfilled              2900 non-null   float64\n",
            " 10  meals_wasted                 2900 non-null   float64\n",
            "dtypes: float64(8), int64(1), object(2)\n",
            "memory usage: 249.3+ KB\n"
          ]
        }
      ]
    },
    {
      "cell_type": "code",
      "source": [
        "# checking the number of missing values\n",
        "food_dataset.isnull().sum()"
      ],
      "metadata": {
        "colab": {
          "base_uri": "https://localhost:8080/"
        },
        "id": "QEEzeRgYCrJ4",
        "outputId": "3d1f6c9e-08b5-4fff-8961-324d7cc17f82"
      },
      "execution_count": null,
      "outputs": [
        {
          "output_type": "execute_result",
          "data": {
            "text/plain": [
              "year                           0\n",
              "sector                         0\n",
              "food_type                      0\n",
              "tons_supply                    0\n",
              "tons_surplus                   0\n",
              "tons_waste                     0\n",
              "tons_uneaten                   0\n",
              "tons_anaerobically_digested    0\n",
              "tons_composted                 0\n",
              "tons_landfilled                0\n",
              "meals_wasted                   0\n",
              "dtype: int64"
            ]
          },
          "metadata": {},
          "execution_count": 23
        }
      ]
    },
    {
      "cell_type": "code",
      "source": [
        " #checking the distribution of categorical data\n",
        "print(food_dataset.sector.value_counts())\n",
        "print(food_dataset.food_type.value_counts())"
      ],
      "metadata": {
        "colab": {
          "base_uri": "https://localhost:8080/"
        },
        "id": "VTmvLiQ5DMyr",
        "outputId": "716d44a7-d62a-4fe2-c344-aab4252b5045"
      },
      "execution_count": 26,
      "outputs": [
        {
          "output_type": "stream",
          "name": "stdout",
          "text": [
            "Foodservice      2640\n",
            "Manufacturing      80\n",
            "Residential        80\n",
            "Retail             80\n",
            "Farm               20\n",
            "Name: sector, dtype: int64\n",
            "Dry Goods                   390\n",
            "Produce                     380\n",
            "Dairy & Eggs                380\n",
            "Prepared Foods              380\n",
            "Breads & Bakery             370\n",
            "Fresh Meat & Seafood        370\n",
            "Ready-to-drink Beverages    370\n",
            "Frozen                      260\n",
            "Name: food_type, dtype: int64\n"
          ]
        }
      ]
    },
    {
      "cell_type": "markdown",
      "source": [
        "Encoding the categorical data "
      ],
      "metadata": {
        "id": "BDhuwLkYEOiG"
      }
    },
    {
      "cell_type": "code",
      "source": [
        "# encoding \"sector\" Column\n",
        "food_dataset.replace({'sector':{'Foodservice':0,'Manufacturing':1,'Residential':2,'Retail':3,'Farm':3}},inplace=True)\n",
        "\n"
      ],
      "metadata": {
        "id": "WVnlhLi2EUo8"
      },
      "execution_count": 44,
      "outputs": []
    },
    {
      "cell_type": "code",
      "source": [
        "# encoding \"food_type\" Column\n",
        "food_dataset.replace({'food_type':{'Dry Goods':0,'Produce':1,'Dairy & Eggs':2,'Prepared Foods':3,'Breads & Bakery':3,'Fresh Meat & Seafood':4,'Ready-to-drink Beverages':5,'Frozen':6}},inplace=True)\n"
      ],
      "metadata": {
        "id": "76yd_4qTKHBO"
      },
      "execution_count": 46,
      "outputs": []
    },
    {
      "cell_type": "code",
      "source": [
        "food_dataset.head()"
      ],
      "metadata": {
        "colab": {
          "base_uri": "https://localhost:8080/",
          "height": 270
        },
        "id": "f63j9ztvGdtD",
        "outputId": "dbb0d245-867e-43d9-bc1a-09ba7dc2a198"
      },
      "execution_count": 47,
      "outputs": [
        {
          "output_type": "execute_result",
          "data": {
            "text/plain": [
              "   year  sector  food_type   tons_supply  tons_surplus    tons_waste  \\\n",
              "0  2019       3          0  6.428605e+06  1.230837e+06  1.081247e+06   \n",
              "1  2019       3          1  9.544273e+07  1.551747e+07  1.362843e+07   \n",
              "2  2019       0          3  3.110773e+04  5.708086e+02  4.821472e+02   \n",
              "3  2019       0          2  1.479832e+04  2.715404e+02  2.293631e+02   \n",
              "4  2019       0          0  2.645191e+04  4.853770e+02  4.099854e+02   \n",
              "\n",
              "   tons_uneaten  tons_anaerobically_digested  tons_composted  tons_landfilled  \\\n",
              "0  1.201759e+06                     0.000000        0.000000     24666.802930   \n",
              "1  1.526485e+07                     0.000000        0.000000    185655.329100   \n",
              "2  5.564499e+02                     0.144755       72.229657       432.694805   \n",
              "3  2.647098e+02                     0.068862       34.360502       205.838034   \n",
              "4  4.731673e+02                     0.123090       61.419216       367.934404   \n",
              "\n",
              "   meals_wasted  \n",
              "0  2.002932e+09  \n",
              "1  2.544142e+10  \n",
              "2  9.274164e+05  \n",
              "3  4.411830e+05  \n",
              "4  7.886122e+05  "
            ],
            "text/html": [
              "\n",
              "  <div id=\"df-9eaef55a-edee-4113-926e-ca1eee58deb8\">\n",
              "    <div class=\"colab-df-container\">\n",
              "      <div>\n",
              "<style scoped>\n",
              "    .dataframe tbody tr th:only-of-type {\n",
              "        vertical-align: middle;\n",
              "    }\n",
              "\n",
              "    .dataframe tbody tr th {\n",
              "        vertical-align: top;\n",
              "    }\n",
              "\n",
              "    .dataframe thead th {\n",
              "        text-align: right;\n",
              "    }\n",
              "</style>\n",
              "<table border=\"1\" class=\"dataframe\">\n",
              "  <thead>\n",
              "    <tr style=\"text-align: right;\">\n",
              "      <th></th>\n",
              "      <th>year</th>\n",
              "      <th>sector</th>\n",
              "      <th>food_type</th>\n",
              "      <th>tons_supply</th>\n",
              "      <th>tons_surplus</th>\n",
              "      <th>tons_waste</th>\n",
              "      <th>tons_uneaten</th>\n",
              "      <th>tons_anaerobically_digested</th>\n",
              "      <th>tons_composted</th>\n",
              "      <th>tons_landfilled</th>\n",
              "      <th>meals_wasted</th>\n",
              "    </tr>\n",
              "  </thead>\n",
              "  <tbody>\n",
              "    <tr>\n",
              "      <th>0</th>\n",
              "      <td>2019</td>\n",
              "      <td>3</td>\n",
              "      <td>0</td>\n",
              "      <td>6.428605e+06</td>\n",
              "      <td>1.230837e+06</td>\n",
              "      <td>1.081247e+06</td>\n",
              "      <td>1.201759e+06</td>\n",
              "      <td>0.000000</td>\n",
              "      <td>0.000000</td>\n",
              "      <td>24666.802930</td>\n",
              "      <td>2.002932e+09</td>\n",
              "    </tr>\n",
              "    <tr>\n",
              "      <th>1</th>\n",
              "      <td>2019</td>\n",
              "      <td>3</td>\n",
              "      <td>1</td>\n",
              "      <td>9.544273e+07</td>\n",
              "      <td>1.551747e+07</td>\n",
              "      <td>1.362843e+07</td>\n",
              "      <td>1.526485e+07</td>\n",
              "      <td>0.000000</td>\n",
              "      <td>0.000000</td>\n",
              "      <td>185655.329100</td>\n",
              "      <td>2.544142e+10</td>\n",
              "    </tr>\n",
              "    <tr>\n",
              "      <th>2</th>\n",
              "      <td>2019</td>\n",
              "      <td>0</td>\n",
              "      <td>3</td>\n",
              "      <td>3.110773e+04</td>\n",
              "      <td>5.708086e+02</td>\n",
              "      <td>4.821472e+02</td>\n",
              "      <td>5.564499e+02</td>\n",
              "      <td>0.144755</td>\n",
              "      <td>72.229657</td>\n",
              "      <td>432.694805</td>\n",
              "      <td>9.274164e+05</td>\n",
              "    </tr>\n",
              "    <tr>\n",
              "      <th>3</th>\n",
              "      <td>2019</td>\n",
              "      <td>0</td>\n",
              "      <td>2</td>\n",
              "      <td>1.479832e+04</td>\n",
              "      <td>2.715404e+02</td>\n",
              "      <td>2.293631e+02</td>\n",
              "      <td>2.647098e+02</td>\n",
              "      <td>0.068862</td>\n",
              "      <td>34.360502</td>\n",
              "      <td>205.838034</td>\n",
              "      <td>4.411830e+05</td>\n",
              "    </tr>\n",
              "    <tr>\n",
              "      <th>4</th>\n",
              "      <td>2019</td>\n",
              "      <td>0</td>\n",
              "      <td>0</td>\n",
              "      <td>2.645191e+04</td>\n",
              "      <td>4.853770e+02</td>\n",
              "      <td>4.099854e+02</td>\n",
              "      <td>4.731673e+02</td>\n",
              "      <td>0.123090</td>\n",
              "      <td>61.419216</td>\n",
              "      <td>367.934404</td>\n",
              "      <td>7.886122e+05</td>\n",
              "    </tr>\n",
              "  </tbody>\n",
              "</table>\n",
              "</div>\n",
              "      <button class=\"colab-df-convert\" onclick=\"convertToInteractive('df-9eaef55a-edee-4113-926e-ca1eee58deb8')\"\n",
              "              title=\"Convert this dataframe to an interactive table.\"\n",
              "              style=\"display:none;\">\n",
              "        \n",
              "  <svg xmlns=\"http://www.w3.org/2000/svg\" height=\"24px\"viewBox=\"0 0 24 24\"\n",
              "       width=\"24px\">\n",
              "    <path d=\"M0 0h24v24H0V0z\" fill=\"none\"/>\n",
              "    <path d=\"M18.56 5.44l.94 2.06.94-2.06 2.06-.94-2.06-.94-.94-2.06-.94 2.06-2.06.94zm-11 1L8.5 8.5l.94-2.06 2.06-.94-2.06-.94L8.5 2.5l-.94 2.06-2.06.94zm10 10l.94 2.06.94-2.06 2.06-.94-2.06-.94-.94-2.06-.94 2.06-2.06.94z\"/><path d=\"M17.41 7.96l-1.37-1.37c-.4-.4-.92-.59-1.43-.59-.52 0-1.04.2-1.43.59L10.3 9.45l-7.72 7.72c-.78.78-.78 2.05 0 2.83L4 21.41c.39.39.9.59 1.41.59.51 0 1.02-.2 1.41-.59l7.78-7.78 2.81-2.81c.8-.78.8-2.07 0-2.86zM5.41 20L4 18.59l7.72-7.72 1.47 1.35L5.41 20z\"/>\n",
              "  </svg>\n",
              "      </button>\n",
              "      \n",
              "  <style>\n",
              "    .colab-df-container {\n",
              "      display:flex;\n",
              "      flex-wrap:wrap;\n",
              "      gap: 12px;\n",
              "    }\n",
              "\n",
              "    .colab-df-convert {\n",
              "      background-color: #E8F0FE;\n",
              "      border: none;\n",
              "      border-radius: 50%;\n",
              "      cursor: pointer;\n",
              "      display: none;\n",
              "      fill: #1967D2;\n",
              "      height: 32px;\n",
              "      padding: 0 0 0 0;\n",
              "      width: 32px;\n",
              "    }\n",
              "\n",
              "    .colab-df-convert:hover {\n",
              "      background-color: #E2EBFA;\n",
              "      box-shadow: 0px 1px 2px rgba(60, 64, 67, 0.3), 0px 1px 3px 1px rgba(60, 64, 67, 0.15);\n",
              "      fill: #174EA6;\n",
              "    }\n",
              "\n",
              "    [theme=dark] .colab-df-convert {\n",
              "      background-color: #3B4455;\n",
              "      fill: #D2E3FC;\n",
              "    }\n",
              "\n",
              "    [theme=dark] .colab-df-convert:hover {\n",
              "      background-color: #434B5C;\n",
              "      box-shadow: 0px 1px 3px 1px rgba(0, 0, 0, 0.15);\n",
              "      filter: drop-shadow(0px 1px 2px rgba(0, 0, 0, 0.3));\n",
              "      fill: #FFFFFF;\n",
              "    }\n",
              "  </style>\n",
              "\n",
              "      <script>\n",
              "        const buttonEl =\n",
              "          document.querySelector('#df-9eaef55a-edee-4113-926e-ca1eee58deb8 button.colab-df-convert');\n",
              "        buttonEl.style.display =\n",
              "          google.colab.kernel.accessAllowed ? 'block' : 'none';\n",
              "\n",
              "        async function convertToInteractive(key) {\n",
              "          const element = document.querySelector('#df-9eaef55a-edee-4113-926e-ca1eee58deb8');\n",
              "          const dataTable =\n",
              "            await google.colab.kernel.invokeFunction('convertToInteractive',\n",
              "                                                     [key], {});\n",
              "          if (!dataTable) return;\n",
              "\n",
              "          const docLinkHtml = 'Like what you see? Visit the ' +\n",
              "            '<a target=\"_blank\" href=https://colab.research.google.com/notebooks/data_table.ipynb>data table notebook</a>'\n",
              "            + ' to learn more about interactive tables.';\n",
              "          element.innerHTML = '';\n",
              "          dataTable['output_type'] = 'display_data';\n",
              "          await google.colab.output.renderOutput(dataTable, element);\n",
              "          const docLink = document.createElement('div');\n",
              "          docLink.innerHTML = docLinkHtml;\n",
              "          element.appendChild(docLink);\n",
              "        }\n",
              "      </script>\n",
              "    </div>\n",
              "  </div>\n",
              "  "
            ]
          },
          "metadata": {},
          "execution_count": 47
        }
      ]
    },
    {
      "cell_type": "markdown",
      "source": [
        "Splitting the data and target"
      ],
      "metadata": {
        "id": "9UH9pdfrGu1P"
      }
    },
    {
      "cell_type": "code",
      "source": [
        "X = food_dataset.drop(['tons_supply','tons_surplus'],axis=1)\n",
        "Y = food_dataset['tons_surplus']"
      ],
      "metadata": {
        "id": "1bb0WRmMG4HI"
      },
      "execution_count": 56,
      "outputs": []
    },
    {
      "cell_type": "code",
      "source": [
        "print(X)"
      ],
      "metadata": {
        "colab": {
          "base_uri": "https://localhost:8080/"
        },
        "id": "qHzGOOGrHbwL",
        "outputId": "64d51f17-9b1a-45a5-aaf6-1b1b2ca1f5ac"
      },
      "execution_count": 57,
      "outputs": [
        {
          "output_type": "stream",
          "name": "stdout",
          "text": [
            "      year  sector  food_type    tons_waste  tons_uneaten  \\\n",
            "0     2019       3          0  1.081247e+06  1.201759e+06   \n",
            "1     2019       3          1  1.362843e+07  1.526485e+07   \n",
            "2     2019       0          3  4.821472e+02  5.564499e+02   \n",
            "3     2019       0          2  2.293631e+02  2.647098e+02   \n",
            "4     2019       0          0  4.099854e+02  4.731673e+02   \n",
            "...    ...     ...        ...           ...           ...   \n",
            "2895  2010       3          4  1.518201e+05  3.577484e+05   \n",
            "2896  2010       3          6  2.144287e+05  4.955690e+05   \n",
            "2897  2010       3          3  6.265419e+04  1.448010e+05   \n",
            "2898  2010       3          1  1.084874e+06  2.507268e+06   \n",
            "2899  2010       3          5  3.028817e+05  4.997456e+05   \n",
            "\n",
            "      tons_anaerobically_digested  tons_composted  tons_landfilled  \\\n",
            "0                        0.000000        0.000000     24666.802930   \n",
            "1                        0.000000        0.000000    185655.329100   \n",
            "2                        0.144755       72.229657       432.694805   \n",
            "3                        0.068862       34.360502       205.838034   \n",
            "4                        0.123090       61.419216       367.934404   \n",
            "...                           ...             ...              ...   \n",
            "2895                 21588.910130    80497.674190    134743.505100   \n",
            "2896                 29473.905500   109898.129500    180565.352900   \n",
            "2897                  8612.019589    32111.280410     52020.368230   \n",
            "2898                149119.442500   556015.483200    917634.414100   \n",
            "2899                 41632.065710   155231.757500    254698.103900   \n",
            "\n",
            "      meals_wasted  \n",
            "0     2.002932e+09  \n",
            "1     2.544142e+10  \n",
            "2     9.274164e+05  \n",
            "3     4.411830e+05  \n",
            "4     7.886122e+05  \n",
            "...            ...  \n",
            "2895  5.962474e+08  \n",
            "2896  8.259483e+08  \n",
            "2897  2.413349e+08  \n",
            "2898  4.178779e+09  \n",
            "2899  8.329093e+08  \n",
            "\n",
            "[2900 rows x 9 columns]\n"
          ]
        }
      ]
    },
    {
      "cell_type": "code",
      "source": [
        "print(Y)"
      ],
      "metadata": {
        "colab": {
          "base_uri": "https://localhost:8080/"
        },
        "id": "TXZ1Jkh-HlC7",
        "outputId": "485d6d24-20e2-4916-a0f1-3bf29a57a57d"
      },
      "execution_count": 58,
      "outputs": [
        {
          "output_type": "stream",
          "name": "stdout",
          "text": [
            "0       1.230837e+06\n",
            "1       1.551747e+07\n",
            "2       5.708086e+02\n",
            "3       2.715404e+02\n",
            "4       4.853770e+02\n",
            "            ...     \n",
            "2895    4.434897e+05\n",
            "2896    6.126259e+05\n",
            "2897    1.790040e+05\n",
            "2898    3.099502e+06\n",
            "2899    6.650892e+05\n",
            "Name: tons_surplus, Length: 2900, dtype: float64\n"
          ]
        }
      ]
    },
    {
      "cell_type": "code",
      "source": [
        "X_train, X_test, Y_train, Y_test = train_test_split(X, Y, test_size = 0.1, random_state=2)"
      ],
      "metadata": {
        "id": "l_fdA9VfHt1l"
      },
      "execution_count": 59,
      "outputs": []
    },
    {
      "cell_type": "markdown",
      "source": [
        "Model Training\n",
        "\n",
        "1. Linear Regression"
      ],
      "metadata": {
        "id": "a4WoNvKzH2KY"
      }
    },
    {
      "cell_type": "code",
      "source": [
        "# loading the linear regression model\n",
        "lin_reg_model = LinearRegression()"
      ],
      "metadata": {
        "id": "xcGNDvsMIAyT"
      },
      "execution_count": 60,
      "outputs": []
    },
    {
      "cell_type": "code",
      "source": [
        "lin_reg_model.fit(X_train,Y_train)"
      ],
      "metadata": {
        "colab": {
          "base_uri": "https://localhost:8080/"
        },
        "id": "FMEP7WbhIN5c",
        "outputId": "e1be798c-ed4e-4eeb-d9b7-8d3a1b952ac6"
      },
      "execution_count": 61,
      "outputs": [
        {
          "output_type": "execute_result",
          "data": {
            "text/plain": [
              "LinearRegression()"
            ]
          },
          "metadata": {},
          "execution_count": 61
        }
      ]
    },
    {
      "cell_type": "markdown",
      "source": [
        "Model Evaluation"
      ],
      "metadata": {
        "id": "LG-4aQoIL5zN"
      }
    },
    {
      "cell_type": "code",
      "source": [
        "# prediction on Training data\n",
        "training_data_prediction = lin_reg_model.predict(X_train)"
      ],
      "metadata": {
        "id": "X4KqbSi8MAxz"
      },
      "execution_count": 62,
      "outputs": []
    },
    {
      "cell_type": "code",
      "source": [
        "# R squared Error\n",
        "error_score = metrics.r2_score(Y_train, training_data_prediction)\n",
        "print(\"R squared Error : \", error_score)"
      ],
      "metadata": {
        "colab": {
          "base_uri": "https://localhost:8080/"
        },
        "id": "qrsZ3fDcMIDS",
        "outputId": "3f70d010-0d31-49c5-d6fb-5c150988bb68"
      },
      "execution_count": 63,
      "outputs": [
        {
          "output_type": "stream",
          "name": "stdout",
          "text": [
            "R squared Error :  0.9986560245506682\n"
          ]
        }
      ]
    },
    {
      "cell_type": "markdown",
      "source": [
        "Visualising actual and predicted value"
      ],
      "metadata": {
        "id": "yOZcm4-yMXfG"
      }
    },
    {
      "cell_type": "code",
      "source": [
        "plt.scatter(Y_train, training_data_prediction)\n",
        "plt.xlabel(\"Actual Surplus Production\")\n",
        "plt.ylabel(\"Predicted Surplus Production\")\n",
        "plt.title(\" Actual vs Predicted \")\n",
        "plt.show()"
      ],
      "metadata": {
        "colab": {
          "base_uri": "https://localhost:8080/",
          "height": 295
        },
        "id": "_h4MaHRuMmHu",
        "outputId": "6fdb7b92-1626-40eb-9812-991c35124bda"
      },
      "execution_count": 65,
      "outputs": [
        {
          "output_type": "display_data",
          "data": {
            "text/plain": [
              "<Figure size 432x288 with 1 Axes>"
            ],
            "image/png": "[encoded data removed]"
          },
          "metadata": {
            "needs_background": "light"
          }
        }
      ]
    },
    {
      "cell_type": "code",
      "source": [
        "# prediction on Training data\n",
        "test_data_prediction = lin_reg_model.predict(X_test)"
      ],
      "metadata": {
        "id": "N2lwSQl7NLhU"
      },
      "execution_count": 66,
      "outputs": []
    },
    {
      "cell_type": "code",
      "source": [
        "# R squared Error\n",
        "error_score = metrics.r2_score(Y_test, test_data_prediction)\n",
        "print(\"R squared Error : \", error_score)"
      ],
      "metadata": {
        "colab": {
          "base_uri": "https://localhost:8080/"
        },
        "id": "vrheME4dNY_w",
        "outputId": "860ad1c8-7aa7-4305-ec81-078f427e32f9"
      },
      "execution_count": 68,
      "outputs": [
        {
          "output_type": "stream",
          "name": "stdout",
          "text": [
            "R squared Error :  0.9996881115624042\n"
          ]
        }
      ]
    },
    {
      "cell_type": "code",
      "source": [
        "plt.scatter(Y_train, training_data_prediction)\n",
        "plt.xlabel(\"Actual Surplus Production\")\n",
        "plt.ylabel(\"Predicted Surplus Production\")\n",
        "plt.title(\" Actual vs Predicted \")\n",
        "plt.show()"
      ],
      "metadata": {
        "colab": {
          "base_uri": "https://localhost:8080/",
          "height": 295
        },
        "id": "CQluAcsBPMAN",
        "outputId": "66297472-5cd7-48cb-a198-050a2d16a342"
      },
      "execution_count": 75,
      "outputs": [
        {
          "output_type": "display_data",
          "data": {
            "text/plain": [
              "<Figure size 432x288 with 1 Axes>"
            ],
            "image/png": "[encoded data removed]"
          },
          "metadata": {
            "needs_background": "light"
          }
        }
      ]
    },
    {
      "cell_type": "markdown",
      "source": [
        "Lasso Regression"
      ],
      "metadata": {
        "id": "kaYYOXiDOFOm"
      }
    },
    {
      "cell_type": "code",
      "source": [
        "# loading the linear regression model\n",
        "lass_reg_model = Lasso()"
      ],
      "metadata": {
        "id": "PiRHyNfYOLFF"
      },
      "execution_count": 70,
      "outputs": []
    },
    {
      "cell_type": "code",
      "source": [
        "lass_reg_model.fit(X_train,Y_train)"
      ],
      "metadata": {
        "colab": {
          "base_uri": "https://localhost:8080/"
        },
        "id": "0Ph6RKWGORox",
        "outputId": "5c6992c7-c2ae-4066-87fb-507cec406790"
      },
      "execution_count": 71,
      "outputs": [
        {
          "output_type": "execute_result",
          "data": {
            "text/plain": [
              "Lasso()"
            ]
          },
          "metadata": {},
          "execution_count": 71
        }
      ]
    },
    {
      "cell_type": "markdown",
      "source": [
        "Model Evaluation"
      ],
      "metadata": {
        "id": "mvpYFDz4Ofmt"
      }
    },
    {
      "cell_type": "code",
      "source": [
        "# prediction on Training data\n",
        "training_data_prediction = lass_reg_model.predict(X_train)"
      ],
      "metadata": {
        "id": "Vs8sJP2eOjXu"
      },
      "execution_count": 72,
      "outputs": []
    },
    {
      "cell_type": "code",
      "source": [
        "# R squared Error\n",
        "error_score = metrics.r2_score(Y_train, training_data_prediction)\n",
        "print(\"R squared Error : \", error_score)"
      ],
      "metadata": {
        "colab": {
          "base_uri": "https://localhost:8080/"
        },
        "id": "elxXH3l7Or68",
        "outputId": "d799dfa5-3f12-4879-e251-320df0e0dd39"
      },
      "execution_count": 73,
      "outputs": [
        {
          "output_type": "stream",
          "name": "stdout",
          "text": [
            "R squared Error :  0.9986508137464466\n"
          ]
        }
      ]
    },
    {
      "cell_type": "markdown",
      "source": [
        "Visualising actual and predicted value"
      ],
      "metadata": {
        "id": "GkPQRXIcOw--"
      }
    },
    {
      "cell_type": "code",
      "source": [
        "plt.scatter(Y_train, training_data_prediction)\n",
        "plt.xlabel(\"Actual Surplus Production\")\n",
        "plt.ylabel(\"Predicted Surplus Production\")\n",
        "plt.title(\" Actual vs Predicted \")\n",
        "plt.show()"
      ],
      "metadata": {
        "colab": {
          "base_uri": "https://localhost:8080/",
          "height": 295
        },
        "id": "hPlNfKkxO33L",
        "outputId": "6205aa16-92de-4a35-893b-ea0be7e9be3f"
      },
      "execution_count": 74,
      "outputs": [
        {
          "output_type": "display_data",
          "data": {
            "text/plain": [
              "<Figure size 432x288 with 1 Axes>"
            ],
            "image/png": "[encoded data removed]"
          },
          "metadata": {
            "needs_background": "light"
          }
        }
      ]
    },
    {
      "cell_type": "code",
      "source": [
        "# prediction on Training data\n",
        "test_data_prediction = lass_reg_model.predict(X_test)"
      ],
      "metadata": {
        "id": "BRFIi-9OP3Z7"
      },
      "execution_count": 76,
      "outputs": []
    },
    {
      "cell_type": "code",
      "source": [
        "# R squared Error\n",
        "error_score = metrics.r2_score(Y_test, test_data_prediction)\n",
        "print(\"R squared Error : \", error_score)"
      ],
      "metadata": {
        "colab": {
          "base_uri": "https://localhost:8080/"
        },
        "id": "JXkUC_8cP76i",
        "outputId": "2e2b4ade-40af-4d5f-b07b-d457080fc788"
      },
      "execution_count": 77,
      "outputs": [
        {
          "output_type": "stream",
          "name": "stdout",
          "text": [
            "R squared Error :  0.9996711978585683\n"
          ]
        }
      ]
    },
    {
      "cell_type": "code",
      "source": [
        "plt.scatter(Y_test, test_data_prediction)\n",
        "plt.xlabel(\"Actual Price\")\n",
        "plt.ylabel(\"Predicted Price\")\n",
        "plt.title(\" Actual Prices vs Predicted Prices\")\n",
        "plt.show()"
      ],
      "metadata": {
        "colab": {
          "base_uri": "https://localhost:8080/",
          "height": 295
        },
        "id": "K8riVeBaQGnc",
        "outputId": "ab4e3828-eda7-4e79-96ba-140379329c6a"
      },
      "execution_count": 78,
      "outputs": [
        {
          "output_type": "display_data",
          "data": {
            "text/plain": [
              "<Figure size 432x288 with 1 Axes>"
            ],
            "image/png": "[encoded data removed]"
          },
          "metadata": {
            "needs_background": "light"
          }
        }
      ]
    }
  ]
}