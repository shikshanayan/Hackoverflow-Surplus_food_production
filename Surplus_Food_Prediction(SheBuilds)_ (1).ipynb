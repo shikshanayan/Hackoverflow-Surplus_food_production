{
  "nbformat": 4,
  "nbformat_minor": 0,
  "metadata": {
    "colab": {
      "provenance": []
    },
    "kernelspec": {
      "name": "python3",
      "display_name": "Python 3"
    },
    "language_info": {
      "name": "python"
    }
  },
  "cells": [
    {
      "cell_type": "markdown",
      "source": [
        "Prediction of Surplus Food Production"
      ],
      "metadata": {
        "id": "P2DzBcV2Q-cm"
      }
    },
    {
      "cell_type": "markdown",
      "source": [
        "Linear Regression and Lasso Regression"
      ],
      "metadata": {
        "id": "6cAqRnI-olXJ"
      }
    },
    {
      "cell_type": "code",
      "execution_count": 436,
      "metadata": {
        "id": "7mfuk0on0IPO"
      },
      "outputs": [],
      "source": [
        "import pandas as pd\n",
        "import matplotlib.pyplot as plt\n",
        "import seaborn as sns\n",
        "from sklearn.model_selection import train_test_split\n",
        "from sklearn.linear_model import LinearRegression\n",
        "from sklearn.linear_model import Lasso\n",
        "from sklearn import metrics"
      ]
    },
    {
      "cell_type": "markdown",
      "source": [
        "Data collection and processing"
      ],
      "metadata": {
        "id": "SWIMIuqf-4bF"
      }
    },
    {
      "cell_type": "code",
      "source": [
        "# loading the data from csv file to pandas dataframe\n",
        "food_dataset = pd.read_csv('/content/databse ml.csv')"
      ],
      "metadata": {
        "id": "mm2D_4EMHHFr"
      },
      "execution_count": 437,
      "outputs": []
    },
    {
      "cell_type": "code",
      "source": [
        "food_dataset.head()"
      ],
      "metadata": {
        "colab": {
          "base_uri": "https://localhost:8080/",
          "height": 305
        },
        "id": "zrmbiyxqHjTc",
        "outputId": "f7b456ca-c0c5-48a9-8e9c-72f61c27ec54"
      },
      "execution_count": 438,
      "outputs": [
        {
          "output_type": "execute_result",
          "data": {
            "text/plain": [
              "   year       sector        food_type  tons_supply  tons_surplus   tons_waste  \\\n",
              "0  2019         Farm        Dry Goods   6428604.73    1230837.32   1081247.44   \n",
              "1  2019         Farm          Produce  95442734.37   15517466.15  13628429.21   \n",
              "2  2019  Foodservice  Breads & Bakery     31107.73        570.81       482.15   \n",
              "3  2019  Foodservice     Dairy & Eggs     14798.32        271.54       229.36   \n",
              "4  2019  Foodservice        Dry Goods     26451.91        485.38       409.99   \n",
              "\n",
              "   tons_uneaten  tons_anaerobically_digested  tons_composted  tons_landfilled  \\\n",
              "0    1201758.99                         0.00            0.00         24666.80   \n",
              "1   15264852.80                         0.00            0.00        185655.33   \n",
              "2        556.45                         0.14           72.23           432.69   \n",
              "3        264.71                         0.07           34.36           205.84   \n",
              "4        473.17                         0.12           61.42           367.93   \n",
              "\n",
              "   meals_wasted  \n",
              "0  2.002932e+09  \n",
              "1  2.544142e+10  \n",
              "2  9.274164e+05  \n",
              "3  4.411830e+05  \n",
              "4  7.886122e+05  "
            ],
            "text/html": [
              "\n",
              "  <div id=\"df-d7cfa929-d4f0-4a2b-8cbd-26b89a9eaaa3\">\n",
              "    <div class=\"colab-df-container\">\n",
              "      <div>\n",
              "<style scoped>\n",
              "    .dataframe tbody tr th:only-of-type {\n",
              "        vertical-align: middle;\n",
              "    }\n",
              "\n",
              "    .dataframe tbody tr th {\n",
              "        vertical-align: top;\n",
              "    }\n",
              "\n",
              "    .dataframe thead th {\n",
              "        text-align: right;\n",
              "    }\n",
              "</style>\n",
              "<table border=\"1\" class=\"dataframe\">\n",
              "  <thead>\n",
              "    <tr style=\"text-align: right;\">\n",
              "      <th></th>\n",
              "      <th>year</th>\n",
              "      <th>sector</th>\n",
              "      <th>food_type</th>\n",
              "      <th>tons_supply</th>\n",
              "      <th>tons_surplus</th>\n",
              "      <th>tons_waste</th>\n",
              "      <th>tons_uneaten</th>\n",
              "      <th>tons_anaerobically_digested</th>\n",
              "      <th>tons_composted</th>\n",
              "      <th>tons_landfilled</th>\n",
              "      <th>meals_wasted</th>\n",
              "    </tr>\n",
              "  </thead>\n",
              "  <tbody>\n",
              "    <tr>\n",
              "      <th>0</th>\n",
              "      <td>2019</td>\n",
              "      <td>Farm</td>\n",
              "      <td>Dry Goods</td>\n",
              "      <td>6428604.73</td>\n",
              "      <td>1230837.32</td>\n",
              "      <td>1081247.44</td>\n",
              "      <td>1201758.99</td>\n",
              "      <td>0.00</td>\n",
              "      <td>0.00</td>\n",
              "      <td>24666.80</td>\n",
              "      <td>2.002932e+09</td>\n",
              "    </tr>\n",
              "    <tr>\n",
              "      <th>1</th>\n",
              "      <td>2019</td>\n",
              "      <td>Farm</td>\n",
              "      <td>Produce</td>\n",
              "      <td>95442734.37</td>\n",
              "      <td>15517466.15</td>\n",
              "      <td>13628429.21</td>\n",
              "      <td>15264852.80</td>\n",
              "      <td>0.00</td>\n",
              "      <td>0.00</td>\n",
              "      <td>185655.33</td>\n",
              "      <td>2.544142e+10</td>\n",
              "    </tr>\n",
              "    <tr>\n",
              "      <th>2</th>\n",
              "      <td>2019</td>\n",
              "      <td>Foodservice</td>\n",
              "      <td>Breads &amp; Bakery</td>\n",
              "      <td>31107.73</td>\n",
              "      <td>570.81</td>\n",
              "      <td>482.15</td>\n",
              "      <td>556.45</td>\n",
              "      <td>0.14</td>\n",
              "      <td>72.23</td>\n",
              "      <td>432.69</td>\n",
              "      <td>9.274164e+05</td>\n",
              "    </tr>\n",
              "    <tr>\n",
              "      <th>3</th>\n",
              "      <td>2019</td>\n",
              "      <td>Foodservice</td>\n",
              "      <td>Dairy &amp; Eggs</td>\n",
              "      <td>14798.32</td>\n",
              "      <td>271.54</td>\n",
              "      <td>229.36</td>\n",
              "      <td>264.71</td>\n",
              "      <td>0.07</td>\n",
              "      <td>34.36</td>\n",
              "      <td>205.84</td>\n",
              "      <td>4.411830e+05</td>\n",
              "    </tr>\n",
              "    <tr>\n",
              "      <th>4</th>\n",
              "      <td>2019</td>\n",
              "      <td>Foodservice</td>\n",
              "      <td>Dry Goods</td>\n",
              "      <td>26451.91</td>\n",
              "      <td>485.38</td>\n",
              "      <td>409.99</td>\n",
              "      <td>473.17</td>\n",
              "      <td>0.12</td>\n",
              "      <td>61.42</td>\n",
              "      <td>367.93</td>\n",
              "      <td>7.886122e+05</td>\n",
              "    </tr>\n",
              "  </tbody>\n",
              "</table>\n",
              "</div>\n",
              "      <button class=\"colab-df-convert\" onclick=\"convertToInteractive('df-d7cfa929-d4f0-4a2b-8cbd-26b89a9eaaa3')\"\n",
              "              title=\"Convert this dataframe to an interactive table.\"\n",
              "              style=\"display:none;\">\n",
              "        \n",
              "  <svg xmlns=\"http://www.w3.org/2000/svg\" height=\"24px\"viewBox=\"0 0 24 24\"\n",
              "       width=\"24px\">\n",
              "    <path d=\"M0 0h24v24H0V0z\" fill=\"none\"/>\n",
              "    <path d=\"M18.56 5.44l.94 2.06.94-2.06 2.06-.94-2.06-.94-.94-2.06-.94 2.06-2.06.94zm-11 1L8.5 8.5l.94-2.06 2.06-.94-2.06-.94L8.5 2.5l-.94 2.06-2.06.94zm10 10l.94 2.06.94-2.06 2.06-.94-2.06-.94-.94-2.06-.94 2.06-2.06.94z\"/><path d=\"M17.41 7.96l-1.37-1.37c-.4-.4-.92-.59-1.43-.59-.52 0-1.04.2-1.43.59L10.3 9.45l-7.72 7.72c-.78.78-.78 2.05 0 2.83L4 21.41c.39.39.9.59 1.41.59.51 0 1.02-.2 1.41-.59l7.78-7.78 2.81-2.81c.8-.78.8-2.07 0-2.86zM5.41 20L4 18.59l7.72-7.72 1.47 1.35L5.41 20z\"/>\n",
              "  </svg>\n",
              "      </button>\n",
              "      \n",
              "  <style>\n",
              "    .colab-df-container {\n",
              "      display:flex;\n",
              "      flex-wrap:wrap;\n",
              "      gap: 12px;\n",
              "    }\n",
              "\n",
              "    .colab-df-convert {\n",
              "      background-color: #E8F0FE;\n",
              "      border: none;\n",
              "      border-radius: 50%;\n",
              "      cursor: pointer;\n",
              "      display: none;\n",
              "      fill: #1967D2;\n",
              "      height: 32px;\n",
              "      padding: 0 0 0 0;\n",
              "      width: 32px;\n",
              "    }\n",
              "\n",
              "    .colab-df-convert:hover {\n",
              "      background-color: #E2EBFA;\n",
              "      box-shadow: 0px 1px 2px rgba(60, 64, 67, 0.3), 0px 1px 3px 1px rgba(60, 64, 67, 0.15);\n",
              "      fill: #174EA6;\n",
              "    }\n",
              "\n",
              "    [theme=dark] .colab-df-convert {\n",
              "      background-color: #3B4455;\n",
              "      fill: #D2E3FC;\n",
              "    }\n",
              "\n",
              "    [theme=dark] .colab-df-convert:hover {\n",
              "      background-color: #434B5C;\n",
              "      box-shadow: 0px 1px 3px 1px rgba(0, 0, 0, 0.15);\n",
              "      filter: drop-shadow(0px 1px 2px rgba(0, 0, 0, 0.3));\n",
              "      fill: #FFFFFF;\n",
              "    }\n",
              "  </style>\n",
              "\n",
              "      <script>\n",
              "        const buttonEl =\n",
              "          document.querySelector('#df-d7cfa929-d4f0-4a2b-8cbd-26b89a9eaaa3 button.colab-df-convert');\n",
              "        buttonEl.style.display =\n",
              "          google.colab.kernel.accessAllowed ? 'block' : 'none';\n",
              "\n",
              "        async function convertToInteractive(key) {\n",
              "          const element = document.querySelector('#df-d7cfa929-d4f0-4a2b-8cbd-26b89a9eaaa3');\n",
              "          const dataTable =\n",
              "            await google.colab.kernel.invokeFunction('convertToInteractive',\n",
              "                                                     [key], {});\n",
              "          if (!dataTable) return;\n",
              "\n",
              "          const docLinkHtml = 'Like what you see? Visit the ' +\n",
              "            '<a target=\"_blank\" href=https://colab.research.google.com/notebooks/data_table.ipynb>data table notebook</a>'\n",
              "            + ' to learn more about interactive tables.';\n",
              "          element.innerHTML = '';\n",
              "          dataTable['output_type'] = 'display_data';\n",
              "          await google.colab.output.renderOutput(dataTable, element);\n",
              "          const docLink = document.createElement('div');\n",
              "          docLink.innerHTML = docLinkHtml;\n",
              "          element.appendChild(docLink);\n",
              "        }\n",
              "      </script>\n",
              "    </div>\n",
              "  </div>\n",
              "  "
            ]
          },
          "metadata": {},
          "execution_count": 438
        }
      ]
    },
    {
      "cell_type": "code",
      "source": [
        "# checking the number of rows and columns\n",
        "food_dataset.shape"
      ],
      "metadata": {
        "colab": {
          "base_uri": "https://localhost:8080/"
        },
        "id": "sKw62vVlCR28",
        "outputId": "7d3a216e-11b9-43e8-eb34-01b628acdc65"
      },
      "execution_count": 439,
      "outputs": [
        {
          "output_type": "execute_result",
          "data": {
            "text/plain": [
              "(2900, 11)"
            ]
          },
          "metadata": {},
          "execution_count": 439
        }
      ]
    },
    {
      "cell_type": "code",
      "source": [
        "# getting some information about the dataset\n",
        "food_dataset.info()"
      ],
      "metadata": {
        "colab": {
          "base_uri": "https://localhost:8080/"
        },
        "id": "_ZV-PkBTHtC0",
        "outputId": "f95773cf-02ab-455e-e080-0d191b467dc7"
      },
      "execution_count": 440,
      "outputs": [
        {
          "output_type": "stream",
          "name": "stdout",
          "text": [
            "<class 'pandas.core.frame.DataFrame'>\n",
            "RangeIndex: 2900 entries, 0 to 2899\n",
            "Data columns (total 11 columns):\n",
            " #   Column                       Non-Null Count  Dtype  \n",
            "---  ------                       --------------  -----  \n",
            " 0   year                         2900 non-null   int64  \n",
            " 1   sector                       2900 non-null   object \n",
            " 2   food_type                    2900 non-null   object \n",
            " 3   tons_supply                  2900 non-null   float64\n",
            " 4   tons_surplus                 2900 non-null   float64\n",
            " 5   tons_waste                   2900 non-null   float64\n",
            " 6   tons_uneaten                 2900 non-null   float64\n",
            " 7   tons_anaerobically_digested  2900 non-null   float64\n",
            " 8   tons_composted               2900 non-null   float64\n",
            " 9   tons_landfilled              2900 non-null   float64\n",
            " 10  meals_wasted                 2900 non-null   float64\n",
            "dtypes: float64(8), int64(1), object(2)\n",
            "memory usage: 249.3+ KB\n"
          ]
        }
      ]
    },
    {
      "cell_type": "code",
      "source": [
        "# checking the number of missing values\n",
        "food_dataset.isnull().sum()"
      ],
      "metadata": {
        "colab": {
          "base_uri": "https://localhost:8080/"
        },
        "id": "samOrIV4Hxfs",
        "outputId": "e5dece90-6179-41a7-91e3-cd5068155b98"
      },
      "execution_count": 441,
      "outputs": [
        {
          "output_type": "execute_result",
          "data": {
            "text/plain": [
              "year                           0\n",
              "sector                         0\n",
              "food_type                      0\n",
              "tons_supply                    0\n",
              "tons_surplus                   0\n",
              "tons_waste                     0\n",
              "tons_uneaten                   0\n",
              "tons_anaerobically_digested    0\n",
              "tons_composted                 0\n",
              "tons_landfilled                0\n",
              "meals_wasted                   0\n",
              "dtype: int64"
            ]
          },
          "metadata": {},
          "execution_count": 441
        }
      ]
    },
    {
      "cell_type": "code",
      "source": [
        " #checking the distribution of categorical data\n",
        "print(food_dataset.sector.value_counts())\n",
        "print(food_dataset.food_type.value_counts())"
      ],
      "metadata": {
        "colab": {
          "base_uri": "https://localhost:8080/"
        },
        "id": "SAxjYtkNHz_U",
        "outputId": "b69d048b-4cb1-4253-d8c3-0011ab2e5676"
      },
      "execution_count": 442,
      "outputs": [
        {
          "output_type": "stream",
          "name": "stdout",
          "text": [
            "Foodservice      2640\n",
            "Manufacturing      80\n",
            "Residential        80\n",
            "Retail             80\n",
            "Farm               20\n",
            "Name: sector, dtype: int64\n",
            "Dry Goods                   390\n",
            "Produce                     380\n",
            "Dairy & Eggs                380\n",
            "Prepared Foods              380\n",
            "Breads & Bakery             370\n",
            "Fresh Meat & Seafood        370\n",
            "Ready-to-drink Beverages    370\n",
            "Frozen                      260\n",
            "Name: food_type, dtype: int64\n"
          ]
        }
      ]
    },
    {
      "cell_type": "markdown",
      "source": [
        "Encoding the categorical data "
      ],
      "metadata": {
        "id": "BDhuwLkYEOiG"
      }
    },
    {
      "cell_type": "code",
      "source": [
        "# encoding \"sector\" Column\n",
        "food_dataset.replace({'sector':{'Foodservice':0,'Manufacturing':1,'Residential':2,'Retail':3,'Farm':3}},inplace=True)\n",
        "\n"
      ],
      "metadata": {
        "id": "WVnlhLi2EUo8"
      },
      "execution_count": 443,
      "outputs": []
    },
    {
      "cell_type": "code",
      "source": [
        "# encoding \"food_type\" Column\n",
        "food_dataset.replace({'food_type':{'Dry Goods':0,'Produce':1,'Dairy & Eggs':2,'Prepared Foods':3,'Breads & Bakery':3,'Fresh Meat & Seafood':4,'Ready-to-drink Beverages':5,'Frozen':6}},inplace=True)\n"
      ],
      "metadata": {
        "id": "76yd_4qTKHBO"
      },
      "execution_count": 444,
      "outputs": []
    },
    {
      "cell_type": "code",
      "source": [
        "food_dataset.head()"
      ],
      "metadata": {
        "colab": {
          "base_uri": "https://localhost:8080/",
          "height": 270
        },
        "id": "f63j9ztvGdtD",
        "outputId": "58144702-93ea-42fc-cf9e-5963c46feee7"
      },
      "execution_count": 445,
      "outputs": [
        {
          "output_type": "execute_result",
          "data": {
            "text/plain": [
              "   year  sector  food_type  tons_supply  tons_surplus   tons_waste  \\\n",
              "0  2019       3          0   6428604.73    1230837.32   1081247.44   \n",
              "1  2019       3          1  95442734.37   15517466.15  13628429.21   \n",
              "2  2019       0          3     31107.73        570.81       482.15   \n",
              "3  2019       0          2     14798.32        271.54       229.36   \n",
              "4  2019       0          0     26451.91        485.38       409.99   \n",
              "\n",
              "   tons_uneaten  tons_anaerobically_digested  tons_composted  tons_landfilled  \\\n",
              "0    1201758.99                         0.00            0.00         24666.80   \n",
              "1   15264852.80                         0.00            0.00        185655.33   \n",
              "2        556.45                         0.14           72.23           432.69   \n",
              "3        264.71                         0.07           34.36           205.84   \n",
              "4        473.17                         0.12           61.42           367.93   \n",
              "\n",
              "   meals_wasted  \n",
              "0  2.002932e+09  \n",
              "1  2.544142e+10  \n",
              "2  9.274164e+05  \n",
              "3  4.411830e+05  \n",
              "4  7.886122e+05  "
            ],
            "text/html": [
              "\n",
              "  <div id=\"df-3fc14ce8-f522-402d-9e0b-e9a940a51c91\">\n",
              "    <div class=\"colab-df-container\">\n",
              "      <div>\n",
              "<style scoped>\n",
              "    .dataframe tbody tr th:only-of-type {\n",
              "        vertical-align: middle;\n",
              "    }\n",
              "\n",
              "    .dataframe tbody tr th {\n",
              "        vertical-align: top;\n",
              "    }\n",
              "\n",
              "    .dataframe thead th {\n",
              "        text-align: right;\n",
              "    }\n",
              "</style>\n",
              "<table border=\"1\" class=\"dataframe\">\n",
              "  <thead>\n",
              "    <tr style=\"text-align: right;\">\n",
              "      <th></th>\n",
              "      <th>year</th>\n",
              "      <th>sector</th>\n",
              "      <th>food_type</th>\n",
              "      <th>tons_supply</th>\n",
              "      <th>tons_surplus</th>\n",
              "      <th>tons_waste</th>\n",
              "      <th>tons_uneaten</th>\n",
              "      <th>tons_anaerobically_digested</th>\n",
              "      <th>tons_composted</th>\n",
              "      <th>tons_landfilled</th>\n",
              "      <th>meals_wasted</th>\n",
              "    </tr>\n",
              "  </thead>\n",
              "  <tbody>\n",
              "    <tr>\n",
              "      <th>0</th>\n",
              "      <td>2019</td>\n",
              "      <td>3</td>\n",
              "      <td>0</td>\n",
              "      <td>6428604.73</td>\n",
              "      <td>1230837.32</td>\n",
              "      <td>1081247.44</td>\n",
              "      <td>1201758.99</td>\n",
              "      <td>0.00</td>\n",
              "      <td>0.00</td>\n",
              "      <td>24666.80</td>\n",
              "      <td>2.002932e+09</td>\n",
              "    </tr>\n",
              "    <tr>\n",
              "      <th>1</th>\n",
              "      <td>2019</td>\n",
              "      <td>3</td>\n",
              "      <td>1</td>\n",
              "      <td>95442734.37</td>\n",
              "      <td>15517466.15</td>\n",
              "      <td>13628429.21</td>\n",
              "      <td>15264852.80</td>\n",
              "      <td>0.00</td>\n",
              "      <td>0.00</td>\n",
              "      <td>185655.33</td>\n",
              "      <td>2.544142e+10</td>\n",
              "    </tr>\n",
              "    <tr>\n",
              "      <th>2</th>\n",
              "      <td>2019</td>\n",
              "      <td>0</td>\n",
              "      <td>3</td>\n",
              "      <td>31107.73</td>\n",
              "      <td>570.81</td>\n",
              "      <td>482.15</td>\n",
              "      <td>556.45</td>\n",
              "      <td>0.14</td>\n",
              "      <td>72.23</td>\n",
              "      <td>432.69</td>\n",
              "      <td>9.274164e+05</td>\n",
              "    </tr>\n",
              "    <tr>\n",
              "      <th>3</th>\n",
              "      <td>2019</td>\n",
              "      <td>0</td>\n",
              "      <td>2</td>\n",
              "      <td>14798.32</td>\n",
              "      <td>271.54</td>\n",
              "      <td>229.36</td>\n",
              "      <td>264.71</td>\n",
              "      <td>0.07</td>\n",
              "      <td>34.36</td>\n",
              "      <td>205.84</td>\n",
              "      <td>4.411830e+05</td>\n",
              "    </tr>\n",
              "    <tr>\n",
              "      <th>4</th>\n",
              "      <td>2019</td>\n",
              "      <td>0</td>\n",
              "      <td>0</td>\n",
              "      <td>26451.91</td>\n",
              "      <td>485.38</td>\n",
              "      <td>409.99</td>\n",
              "      <td>473.17</td>\n",
              "      <td>0.12</td>\n",
              "      <td>61.42</td>\n",
              "      <td>367.93</td>\n",
              "      <td>7.886122e+05</td>\n",
              "    </tr>\n",
              "  </tbody>\n",
              "</table>\n",
              "</div>\n",
              "      <button class=\"colab-df-convert\" onclick=\"convertToInteractive('df-3fc14ce8-f522-402d-9e0b-e9a940a51c91')\"\n",
              "              title=\"Convert this dataframe to an interactive table.\"\n",
              "              style=\"display:none;\">\n",
              "        \n",
              "  <svg xmlns=\"http://www.w3.org/2000/svg\" height=\"24px\"viewBox=\"0 0 24 24\"\n",
              "       width=\"24px\">\n",
              "    <path d=\"M0 0h24v24H0V0z\" fill=\"none\"/>\n",
              "    <path d=\"M18.56 5.44l.94 2.06.94-2.06 2.06-.94-2.06-.94-.94-2.06-.94 2.06-2.06.94zm-11 1L8.5 8.5l.94-2.06 2.06-.94-2.06-.94L8.5 2.5l-.94 2.06-2.06.94zm10 10l.94 2.06.94-2.06 2.06-.94-2.06-.94-.94-2.06-.94 2.06-2.06.94z\"/><path d=\"M17.41 7.96l-1.37-1.37c-.4-.4-.92-.59-1.43-.59-.52 0-1.04.2-1.43.59L10.3 9.45l-7.72 7.72c-.78.78-.78 2.05 0 2.83L4 21.41c.39.39.9.59 1.41.59.51 0 1.02-.2 1.41-.59l7.78-7.78 2.81-2.81c.8-.78.8-2.07 0-2.86zM5.41 20L4 18.59l7.72-7.72 1.47 1.35L5.41 20z\"/>\n",
              "  </svg>\n",
              "      </button>\n",
              "      \n",
              "  <style>\n",
              "    .colab-df-container {\n",
              "      display:flex;\n",
              "      flex-wrap:wrap;\n",
              "      gap: 12px;\n",
              "    }\n",
              "\n",
              "    .colab-df-convert {\n",
              "      background-color: #E8F0FE;\n",
              "      border: none;\n",
              "      border-radius: 50%;\n",
              "      cursor: pointer;\n",
              "      display: none;\n",
              "      fill: #1967D2;\n",
              "      height: 32px;\n",
              "      padding: 0 0 0 0;\n",
              "      width: 32px;\n",
              "    }\n",
              "\n",
              "    .colab-df-convert:hover {\n",
              "      background-color: #E2EBFA;\n",
              "      box-shadow: 0px 1px 2px rgba(60, 64, 67, 0.3), 0px 1px 3px 1px rgba(60, 64, 67, 0.15);\n",
              "      fill: #174EA6;\n",
              "    }\n",
              "\n",
              "    [theme=dark] .colab-df-convert {\n",
              "      background-color: #3B4455;\n",
              "      fill: #D2E3FC;\n",
              "    }\n",
              "\n",
              "    [theme=dark] .colab-df-convert:hover {\n",
              "      background-color: #434B5C;\n",
              "      box-shadow: 0px 1px 3px 1px rgba(0, 0, 0, 0.15);\n",
              "      filter: drop-shadow(0px 1px 2px rgba(0, 0, 0, 0.3));\n",
              "      fill: #FFFFFF;\n",
              "    }\n",
              "  </style>\n",
              "\n",
              "      <script>\n",
              "        const buttonEl =\n",
              "          document.querySelector('#df-3fc14ce8-f522-402d-9e0b-e9a940a51c91 button.colab-df-convert');\n",
              "        buttonEl.style.display =\n",
              "          google.colab.kernel.accessAllowed ? 'block' : 'none';\n",
              "\n",
              "        async function convertToInteractive(key) {\n",
              "          const element = document.querySelector('#df-3fc14ce8-f522-402d-9e0b-e9a940a51c91');\n",
              "          const dataTable =\n",
              "            await google.colab.kernel.invokeFunction('convertToInteractive',\n",
              "                                                     [key], {});\n",
              "          if (!dataTable) return;\n",
              "\n",
              "          const docLinkHtml = 'Like what you see? Visit the ' +\n",
              "            '<a target=\"_blank\" href=https://colab.research.google.com/notebooks/data_table.ipynb>data table notebook</a>'\n",
              "            + ' to learn more about interactive tables.';\n",
              "          element.innerHTML = '';\n",
              "          dataTable['output_type'] = 'display_data';\n",
              "          await google.colab.output.renderOutput(dataTable, element);\n",
              "          const docLink = document.createElement('div');\n",
              "          docLink.innerHTML = docLinkHtml;\n",
              "          element.appendChild(docLink);\n",
              "        }\n",
              "      </script>\n",
              "    </div>\n",
              "  </div>\n",
              "  "
            ]
          },
          "metadata": {},
          "execution_count": 445
        }
      ]
    },
    {
      "cell_type": "markdown",
      "source": [
        "Splitting the data and target"
      ],
      "metadata": {
        "id": "9UH9pdfrGu1P"
      }
    },
    {
      "cell_type": "code",
      "source": [
        "X = food_dataset.drop(['tons_surplus','tons_waste','tons_landfilled','tons_anaerobically_digested','meals_wasted','tons_composted'],axis=1)\n",
        "Y = food_dataset['tons_surplus']"
      ],
      "metadata": {
        "id": "5PwqeYRmIP7A"
      },
      "execution_count": 446,
      "outputs": []
    },
    {
      "cell_type": "code",
      "source": [
        "print(X)"
      ],
      "metadata": {
        "colab": {
          "base_uri": "https://localhost:8080/"
        },
        "id": "0ZtROfFzIsYy",
        "outputId": "afa3a385-1684-425f-e784-a88691e8dfe8"
      },
      "execution_count": 447,
      "outputs": [
        {
          "output_type": "stream",
          "name": "stdout",
          "text": [
            "      year  sector  food_type  tons_supply  tons_uneaten\n",
            "0     2019       3          0   6428604.73    1201758.99\n",
            "1     2019       3          1  95442734.37   15264852.80\n",
            "2     2019       0          3     31107.73        556.45\n",
            "3     2019       0          2     14798.32        264.71\n",
            "4     2019       0          0     26451.91        473.17\n",
            "...    ...     ...        ...          ...           ...\n",
            "2895  2010       3          4  10204863.96     357748.43\n",
            "2896  2010       3          6  13258202.04     495568.98\n",
            "2897  2010       3          3   3758004.64     144800.96\n",
            "2898  2010       3          1  24719165.36    2507267.64\n",
            "2899  2010       3          5  13872145.90     499745.56\n",
            "\n",
            "[2900 rows x 5 columns]\n"
          ]
        }
      ]
    },
    {
      "cell_type": "code",
      "source": [
        "print(Y)"
      ],
      "metadata": {
        "colab": {
          "base_uri": "https://localhost:8080/"
        },
        "id": "s7jawGZTIumc",
        "outputId": "8c4fc4fb-e5e2-4338-e1de-c2056831d2da"
      },
      "execution_count": 448,
      "outputs": [
        {
          "output_type": "stream",
          "name": "stdout",
          "text": [
            "0        1230837.32\n",
            "1       15517466.15\n",
            "2            570.81\n",
            "3            271.54\n",
            "4            485.38\n",
            "           ...     \n",
            "2895      443489.75\n",
            "2896      612625.91\n",
            "2897      179003.98\n",
            "2898     3099502.18\n",
            "2899      665089.18\n",
            "Name: tons_surplus, Length: 2900, dtype: float64\n"
          ]
        }
      ]
    },
    {
      "cell_type": "code",
      "source": [
        "X_train, X_test, Y_train, Y_test = train_test_split(X, Y, test_size = 0.2, random_state=2)"
      ],
      "metadata": {
        "id": "l_fdA9VfHt1l"
      },
      "execution_count": 449,
      "outputs": []
    },
    {
      "cell_type": "code",
      "source": [
        "print(X.shape, X_train.shape, X_test.shape)"
      ],
      "metadata": {
        "colab": {
          "base_uri": "https://localhost:8080/"
        },
        "id": "H4TLbo1uSIxt",
        "outputId": "fa416b45-4a22-4cf6-e833-597f4c0c9b7e"
      },
      "execution_count": 450,
      "outputs": [
        {
          "output_type": "stream",
          "name": "stdout",
          "text": [
            "(2900, 5) (2320, 5) (580, 5)\n"
          ]
        }
      ]
    },
    {
      "cell_type": "markdown",
      "source": [
        "Model Training\n",
        "\n",
        "1. Linear Regression"
      ],
      "metadata": {
        "id": "a4WoNvKzH2KY"
      }
    },
    {
      "cell_type": "code",
      "source": [
        "# loading the linear regression model\n",
        "lin_reg_model = LinearRegression()"
      ],
      "metadata": {
        "id": "ZfWzhA46YHKd"
      },
      "execution_count": 451,
      "outputs": []
    },
    {
      "cell_type": "code",
      "source": [
        "lin_reg_model.fit(X_train,Y_train)"
      ],
      "metadata": {
        "colab": {
          "base_uri": "https://localhost:8080/"
        },
        "id": "C1dNAObxZXRW",
        "outputId": "c5e85d05-208e-4dc6-87ef-63da7c17c635"
      },
      "execution_count": 452,
      "outputs": [
        {
          "output_type": "execute_result",
          "data": {
            "text/plain": [
              "LinearRegression()"
            ]
          },
          "metadata": {},
          "execution_count": 452
        }
      ]
    },
    {
      "cell_type": "markdown",
      "source": [
        "Model Evaluation"
      ],
      "metadata": {
        "id": "LG-4aQoIL5zN"
      }
    },
    {
      "cell_type": "code",
      "source": [
        "# prediction on Training data\n",
        "training_data_prediction = lin_reg_model.predict(X_train)"
      ],
      "metadata": {
        "id": "X4KqbSi8MAxz"
      },
      "execution_count": 453,
      "outputs": []
    },
    {
      "cell_type": "code",
      "source": [
        "# R squared Error\n",
        "error_score = metrics.r2_score(Y_train, training_data_prediction)\n",
        "print(\"R squared Error : \", error_score)"
      ],
      "metadata": {
        "colab": {
          "base_uri": "https://localhost:8080/"
        },
        "id": "qrsZ3fDcMIDS",
        "outputId": "719d1e7c-25e5-4b4a-f60c-cf612577bc3b"
      },
      "execution_count": 454,
      "outputs": [
        {
          "output_type": "stream",
          "name": "stdout",
          "text": [
            "R squared Error :  0.9983421762142314\n"
          ]
        }
      ]
    },
    {
      "cell_type": "markdown",
      "source": [
        "Accuracy"
      ],
      "metadata": {
        "id": "JeZjHrcTardW"
      }
    },
    {
      "cell_type": "code",
      "source": [
        "regressor = LinearRegression()\n",
        "regressor.fit(X_test,Y_test)\n",
        "regressor.score(X_test, Y_test)"
      ],
      "metadata": {
        "colab": {
          "base_uri": "https://localhost:8080/"
        },
        "id": "nhQQmjBSaJeN",
        "outputId": "4218baaf-745a-4936-ff29-f84146e53e05"
      },
      "execution_count": 455,
      "outputs": [
        {
          "output_type": "execute_result",
          "data": {
            "text/plain": [
              "0.9993778648878631"
            ]
          },
          "metadata": {},
          "execution_count": 455
        }
      ]
    },
    {
      "cell_type": "markdown",
      "source": [
        "Visualising actual and predicted value"
      ],
      "metadata": {
        "id": "yOZcm4-yMXfG"
      }
    },
    {
      "cell_type": "code",
      "source": [
        "plt.scatter(Y_train, training_data_prediction)\n",
        "plt.xlabel(\"Actual Surplus Production\")\n",
        "plt.ylabel(\"Predicted Surplus Production\")\n",
        "plt.title(\" Actual vs Predicted \")\n",
        "plt.show()"
      ],
      "metadata": {
        "colab": {
          "base_uri": "https://localhost:8080/",
          "height": 295
        },
        "id": "_h4MaHRuMmHu",
        "outputId": "97dff3d3-3972-41ad-8702-bc16b089c362"
      },
      "execution_count": 456,
      "outputs": [
        {
          "output_type": "display_data",
          "data": {
            "text/plain": [
              "<Figure size 432x288 with 1 Axes>"
            ],
            "image/png": "[encoded data removed]"
          },
          "metadata": {
            "needs_background": "light"
          }
        }
      ]
    },
    {
      "cell_type": "code",
      "source": [
        "import pickle"
      ],
      "metadata": {
        "id": "HZtUjKyr1mFL"
      },
      "execution_count": 457,
      "outputs": []
    },
    {
      "cell_type": "code",
      "source": [
        "filename = 'food_model.sav'\n",
        "pickle.dump(lin_reg_model,open(filename, 'wb'))"
      ],
      "metadata": {
        "id": "OH5sQ2oN1otk"
      },
      "execution_count": 458,
      "outputs": []
    },
    {
      "cell_type": "code",
      "source": [
        "# loading the saved model\n",
        "loaded_model = pickle.load(open('food_model.sav', 'rb'))"
      ],
      "metadata": {
        "id": "axUzd_QV3Nq9"
      },
      "execution_count": 459,
      "outputs": []
    },
    {
      "cell_type": "code",
      "source": [
        "import numpy as np\n",
        "input_data = ('2019','3','0','6428604','1201758.99')\n",
        "\n",
        "# changing the input_data to numpy array\n",
        "input_data_as_numpy_array = np.asarray(input_data)\n",
        "\n",
        "# reshape the array as we are predicting for one instance\n",
        "input_data_reshaped = input_data_as_numpy_array.reshape(1,-1)\n",
        "\n",
        "prediction = loaded_model.predict(input_data_reshaped)\n",
        "print(prediction)"
      ],
      "metadata": {
        "colab": {
          "base_uri": "https://localhost:8080/"
        },
        "id": "JhK4pwkZ4H-x",
        "outputId": "f70db993-4b1e-4271-8352-215e34444b35"
      },
      "execution_count": 460,
      "outputs": [
        {
          "output_type": "stream",
          "name": "stdout",
          "text": [
            "[1381608.77521445]\n"
          ]
        },
        {
          "output_type": "stream",
          "name": "stderr",
          "text": [
            "/usr/local/lib/python3.8/dist-packages/sklearn/base.py:450: UserWarning: X does not have valid feature names, but LinearRegression was fitted with feature names\n",
            "  warnings.warn(\n",
            "/usr/local/lib/python3.8/dist-packages/sklearn/base.py:566: FutureWarning: Arrays of bytes/strings is being converted to decimal numbers if dtype='numeric'. This behavior is deprecated in 0.24 and will be removed in 1.1 (renaming of 0.26). Please convert your data to numeric values explicitly instead.\n",
            "  X = check_array(X, **check_params)\n"
          ]
        }
      ]
    },
    {
      "cell_type": "code",
      "source": [
        "for column in X.columns:\n",
        "  print(column)"
      ],
      "metadata": {
        "colab": {
          "base_uri": "https://localhost:8080/"
        },
        "id": "CS9b30tz6YJG",
        "outputId": "aab3666e-fce4-4420-cd5a-7bdc9fea32dc"
      },
      "execution_count": 461,
      "outputs": [
        {
          "output_type": "stream",
          "name": "stdout",
          "text": [
            "year\n",
            "sector\n",
            "food_type\n",
            "tons_supply\n",
            "tons_uneaten\n"
          ]
        }
      ]
    }
  ]
}